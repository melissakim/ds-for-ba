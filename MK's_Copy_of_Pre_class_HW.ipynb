{
  "nbformat": 4,
  "nbformat_minor": 0,
  "metadata": {
    "kernelspec": {
      "display_name": "Python 3",
      "language": "python",
      "name": "python3"
    },
    "language_info": {
      "codemirror_mode": {
        "name": "ipython",
        "version": 3
      },
      "file_extension": ".py",
      "mimetype": "text/x-python",
      "name": "python",
      "nbconvert_exporter": "python",
      "pygments_lexer": "ipython3",
      "version": "3.6.9"
    },
    "colab": {
      "name": "MK's Copy of Pre-class HW.ipynb",
      "provenance": [],
      "collapsed_sections": [],
      "include_colab_link": true
    }
  },
  "cells": [
    {
      "cell_type": "markdown",
      "metadata": {
        "id": "view-in-github",
        "colab_type": "text"
      },
      "source": [
        "<a href=\"https://colab.research.google.com/github/melissakim/test-repo/blob/master/MK's_Copy_of_Pre_class_HW.ipynb\" target=\"_parent\"><img src=\"https://colab.research.google.com/assets/colab-badge.svg\" alt=\"Open In Colab\"/></a>"
      ]
    },
    {
      "cell_type": "markdown",
      "metadata": {
        "id": "BV6c1ADVFIPB",
        "colab_type": "text"
      },
      "source": [
        "To open notebook in Colab please click below:\n",
        "\n",
        "<a href=\"https://colab.research.google.com/github/bwolfson2/foster_2020/blob/master/Homeworks/Pre-class%20HW.ipynb\" target=\"_parent\"> <img src=\"https://colab.research.google.com/assets/colab-badge.svg\" alt=\"Open In Colab\" /> </a>'\n"
      ]
    },
    {
      "cell_type": "markdown",
      "metadata": {
        "id": "JF1SiQkMFIPE",
        "colab_type": "text"
      },
      "source": [
        "# Pre-class Homework - Survey and Python review\n",
        "\n",
        "Welcome to the course! The purpose of this homework is to get to know you better and warm up your Python skills before the first class. Make sure to check out the referesher in Module0_Basics if it has been a while since the last time you coded. \n",
        "\n",
        "Please upload your completed notebook to NYU Classes."
      ]
    },
    {
      "cell_type": "markdown",
      "metadata": {
        "id": "t16cPf9xFIPF",
        "colab_type": "text"
      },
      "source": [
        "## Part 0: I have gone through the [Colab Basics Jupyter Notebook](https://github.com/bwolfson2/foster_2020/blob/master/Module0_Basics/Colab%20Basics.ipynb)"
      ]
    },
    {
      "cell_type": "markdown",
      "metadata": {
        "id": "fM3c7UJrFIPG",
        "colab_type": "text"
      },
      "source": [
        "** Mark \"Yes\" below. **"
      ]
    },
    {
      "cell_type": "markdown",
      "metadata": {
        "id": "-XFRQ7i3FIPH",
        "colab_type": "text"
      },
      "source": [
        "**Yes**  I saved this Colab notebook and deleted the relevant cell above\n",
        "\n",
        "**Yes**  I have read and understood the Colab notebook\n"
      ]
    },
    {
      "cell_type": "markdown",
      "metadata": {
        "id": "12fIUqllFIPI",
        "colab_type": "text"
      },
      "source": [
        "## Part 1: Know the course"
      ]
    },
    {
      "cell_type": "markdown",
      "metadata": {
        "id": "Eu4vqiQJFIPI",
        "colab_type": "text"
      },
      "source": [
        "** 1.1 Read the syllabus (available on NYU classes) in its entirety. Mark \"Yes\" below. **"
      ]
    },
    {
      "cell_type": "markdown",
      "metadata": {
        "id": "knIxV2MlFIPJ",
        "colab_type": "text"
      },
      "source": [
        "**Yes** I have read and understood the syllabus for this class."
      ]
    },
    {
      "cell_type": "markdown",
      "metadata": {
        "id": "yR-M9eKBFIPK",
        "colab_type": "text"
      },
      "source": [
        "## Part 2: Let us know you better"
      ]
    },
    {
      "cell_type": "markdown",
      "metadata": {
        "id": "Zf_O_16AFIPL",
        "colab_type": "text"
      },
      "source": [
        "** 2.1 Please go to this [link](https://forms.gle/z4fwcPfZ5Kpjck5h9) and fill the survey. Mark \"Yes\" below. **"
      ]
    },
    {
      "cell_type": "markdown",
      "metadata": {
        "id": "2cDXLvM9FIPM",
        "colab_type": "text"
      },
      "source": [
        "**Yes**  I have read and filled the survey for this class."
      ]
    },
    {
      "cell_type": "markdown",
      "metadata": {
        "id": "LZGXMbHBFIPM",
        "colab_type": "text"
      },
      "source": [
        "## Part 3: Python review"
      ]
    },
    {
      "cell_type": "markdown",
      "metadata": {
        "id": "GEe9MK4OFIPN",
        "colab_type": "text"
      },
      "source": [
        "**3.1 Create one Python list of 5 fruits and another one with 5 colors. **"
      ]
    },
    {
      "cell_type": "code",
      "metadata": {
        "id": "vXP2oUgPFIPO",
        "colab_type": "code",
        "colab": {}
      },
      "source": [
        "fruits = [\"orange\",\"apple\",\"strawberry\",\"banana\",\"pineapple\"]\n",
        "colors = [\"blue\", \"red\", \"orange\", \"green\", \"purple\"]"
      ],
      "execution_count": 0,
      "outputs": []
    },
    {
      "cell_type": "markdown",
      "metadata": {
        "id": "RGSqfssGFIPS",
        "colab_type": "text"
      },
      "source": [
        "**3.2 Go through each fruit (first list) and print out the name of the fruit with one color of the second list without repeating any color. **\n",
        "\n",
        "(don't worry, it doesn't have to be the color of the fruit!)\n",
        "\n",
        "Example of what you should print for one fruit:  _apple is purple_"
      ]
    },
    {
      "cell_type": "code",
      "metadata": {
        "id": "SNcMY5EfFIPS",
        "colab_type": "code",
        "colab": {
          "base_uri": "https://localhost:8080/",
          "height": 102
        },
        "outputId": "418c62b8-578d-4964-8cd0-adac3afef4d6"
      },
      "source": [
        "[i + \" is \" + j for i, j in zip(fruits, colors)]"
      ],
      "execution_count": 99,
      "outputs": [
        {
          "output_type": "execute_result",
          "data": {
            "text/plain": [
              "['orange is blue',\n",
              " 'apple is red',\n",
              " 'strawberry is orange',\n",
              " 'banana is green',\n",
              " 'pineapple is purple']"
            ]
          },
          "metadata": {
            "tags": []
          },
          "execution_count": 99
        }
      ]
    },
    {
      "cell_type": "markdown",
      "metadata": {
        "id": "TH7SPztcFIPX",
        "colab_type": "text"
      },
      "source": [
        "**3.3 Add two new fruits to your list with a _BUILT-IN_ function. **\n",
        "\n",
        "(You may want to look for the function with the **TAB** hint!)"
      ]
    },
    {
      "cell_type": "code",
      "metadata": {
        "id": "IWBQsIKcFIPY",
        "colab_type": "code",
        "colab": {}
      },
      "source": [
        "fruits.extend((\"mango\", \"kiwi\"))"
      ],
      "execution_count": 0,
      "outputs": []
    },
    {
      "cell_type": "markdown",
      "metadata": {
        "id": "DqKZN8dnFIPb",
        "colab_type": "text"
      },
      "source": [
        "**3.4 Use the list of fruits and sort the names (put them in alphabetical order). **\n",
        "\n",
        "(Hint: The lists in Python already have a function for that)"
      ]
    },
    {
      "cell_type": "code",
      "metadata": {
        "id": "20A5BAPdFIPb",
        "colab_type": "code",
        "colab": {}
      },
      "source": [
        "fruits.sort()"
      ],
      "execution_count": 0,
      "outputs": []
    },
    {
      "cell_type": "markdown",
      "metadata": {
        "id": "46vnbf8PFIPf",
        "colab_type": "text"
      },
      "source": [
        "**3.5 Create a new empty list called \"count_letters\". Go through your list of fruits, and for each one, add an entry to that new list (count_letters) telling the number of letters each fruit name. Then, print how many letters each fruit has.**\n",
        "\n",
        "Example of what you should print for one fruit: _apple is 5 letters_"
      ]
    },
    {
      "cell_type": "code",
      "metadata": {
        "id": "-U44Xn-6FIPg",
        "colab_type": "code",
        "colab": {
          "base_uri": "https://localhost:8080/",
          "height": 136
        },
        "outputId": "6f49b576-db39-4983-c07f-b6546789238b"
      },
      "source": [
        "count_letters = []\n",
        "\n",
        "for x in range(0,len(fruits)):\n",
        "  y = str(len(fruits[x]))\n",
        "  count_letters.insert(x,y)\n",
        "  x + 1\n",
        "\n",
        "[i + \" is \" + j + \" letters\" for i, j in zip(fruits, count_letters)]\n"
      ],
      "execution_count": 107,
      "outputs": [
        {
          "output_type": "execute_result",
          "data": {
            "text/plain": [
              "['apple is 5 letters',\n",
              " 'banana is 6 letters',\n",
              " 'kiwi is 4 letters',\n",
              " 'mango is 5 letters',\n",
              " 'orange is 6 letters',\n",
              " 'pineapple is 9 letters',\n",
              " 'strawberry is 10 letters']"
            ]
          },
          "metadata": {
            "tags": []
          },
          "execution_count": 107
        }
      ]
    },
    {
      "cell_type": "markdown",
      "metadata": {
        "id": "uMdjqU7WFIPj",
        "colab_type": "text"
      },
      "source": [
        "** 3.6 Make a function called `one_more` that takes a list (input_list) and returns a new list (output_list) where each element of the original will be increased by 1 and divided by 2. **"
      ]
    },
    {
      "cell_type": "code",
      "metadata": {
        "id": "M2yz0qM0FIPj",
        "colab_type": "code",
        "colab": {}
      },
      "source": [
        "def one_more(input_list):\n",
        "    output_list = []   \n",
        "    for a in range(0,len(input_list)):\n",
        "      b = (a+1)/2\n",
        "      output_list.insert(a,b)\n",
        "      a + 1\n",
        "    return output_list"
      ],
      "execution_count": 0,
      "outputs": []
    },
    {
      "cell_type": "markdown",
      "metadata": {
        "id": "7Usftr4fFIPl",
        "colab_type": "text"
      },
      "source": [
        "** 3.7 Use the previous function to change the value of a list of 10 random numbers. **"
      ]
    },
    {
      "cell_type": "markdown",
      "metadata": {
        "collapsed": true,
        "id": "qIZ7xBLCFIPm",
        "colab_type": "text"
      },
      "source": [
        "# To submit the homework save it to your google drive (see Part 0), download it and upload to NYU Classes under assignments\n",
        "\n"
      ]
    },
    {
      "cell_type": "code",
      "metadata": {
        "id": "zr04KtAtFIPn",
        "colab_type": "code",
        "colab": {
          "base_uri": "https://localhost:8080/",
          "height": 34
        },
        "outputId": "e2b4e27e-cad5-4764-cbe1-f5259a856e2b"
      },
      "source": [
        "import random\n",
        "randomlist = random.sample(range(0, 50), 10)\n",
        "\n",
        "one_more(randomlist)"
      ],
      "execution_count": 144,
      "outputs": [
        {
          "output_type": "execute_result",
          "data": {
            "text/plain": [
              "[0.5, 1.0, 1.5, 2.0, 2.5, 3.0, 3.5, 4.0, 4.5, 5.0]"
            ]
          },
          "metadata": {
            "tags": []
          },
          "execution_count": 144
        }
      ]
    }
  ]
}